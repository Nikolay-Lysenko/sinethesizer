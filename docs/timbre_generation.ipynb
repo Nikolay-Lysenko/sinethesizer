{
 "cells": [
  {
   "cell_type": "markdown",
   "metadata": {},
   "source": [
    "# Overview"
   ]
  },
  {
   "cell_type": "markdown",
   "metadata": {},
   "source": [
    "This notebook demonstrates how a YAML file with a new timbre can be created based on a WAV file with recording of a real instrument. Such approach is sometimes called resynthesis.\n",
    "\n",
    "Although synthesized with this procedure sounds are not similar enough to original sounds, created presets may be used for further manual editing. "
   ]
  },
  {
   "cell_type": "markdown",
   "metadata": {},
   "source": [
    "# Setup"
   ]
  },
  {
   "cell_type": "code",
   "execution_count": 1,
   "metadata": {},
   "outputs": [],
   "source": [
    "import matplotlib.pyplot as plt\n",
    "%matplotlib inline\n",
    "import seaborn as sns\n",
    "\n",
    "import numpy as np\n",
    "import wavio\n",
    "from scipy.signal import spectrogram"
   ]
  },
  {
   "cell_type": "code",
   "execution_count": 2,
   "metadata": {},
   "outputs": [],
   "source": [
    "note = 'C4'\n",
    "fundamental_frequency = 261.6\n",
    "duration_in_seconds = 2\n",
    "frame_rate = 44100"
   ]
  },
  {
   "cell_type": "code",
   "execution_count": 3,
   "metadata": {},
   "outputs": [],
   "source": [
    "duration_in_frames = int(round(frame_rate * duration_in_seconds))"
   ]
  },
  {
   "cell_type": "code",
   "execution_count": 4,
   "metadata": {},
   "outputs": [
    {
     "data": {
      "text/plain": [
       "(88200,)"
      ]
     },
     "execution_count": 4,
     "metadata": {},
     "output_type": "execute_result"
    }
   ],
   "source": [
    "target = wavio.read(f'nylon_guitar_samples/{note}.wav').data\n",
    "target = np.transpose(target)\n",
    "target = target / np.max(np.abs(target))  # Scale values to be not greater than 1.\n",
    "target = target[0, :duration_in_frames]\n",
    "padding = np.array([0 for _ in range(duration_in_frames - target.shape[0])])\n",
    "target = np.hstack((target, padding))\n",
    "target.shape"
   ]
  },
  {
   "cell_type": "markdown",
   "metadata": {},
   "source": [
    "# Spectrogram"
   ]
  },
  {
   "cell_type": "code",
   "execution_count": 5,
   "metadata": {},
   "outputs": [],
   "source": [
    "n_first_frequencies = 200\n",
    "n_first_frames = 50\n",
    "frequencies, time_frames, spc = spectrogram(target, frame_rate, nperseg=2205, nfft=4410)\n",
    "spc = np.sqrt(spc)  # Initially, there is power which is proportional to square of amplitude."
   ]
  },
  {
   "cell_type": "code",
   "execution_count": null,
   "metadata": {
    "scrolled": false
   },
   "outputs": [],
   "source": [
    "fig = plt.figure(figsize=(16, 32))\n",
    "ax = fig.add_subplot(111)\n",
    "sns.heatmap(\n",
    "    spc[:n_first_frequencies, :n_first_frames],\n",
    "    yticklabels=frequencies[:n_first_frequencies],\n",
    "    ax=ax, cmap='coolwarm'\n",
    ")"
   ]
  },
  {
   "cell_type": "markdown",
   "metadata": {},
   "source": [
    "# Config Generation"
   ]
  },
  {
   "cell_type": "code",
   "execution_count": 6,
   "metadata": {},
   "outputs": [],
   "source": [
    "threshold = 0.00005\n",
    "envelopes = {}\n",
    "for i, frequency in enumerate(frequencies.tolist()[:n_first_frequencies]):\n",
    "    partial = frequency / fundamental_frequency\n",
    "    harmonic_partial = round(frequency / fundamental_frequency)\n",
    "    if partial < 1:\n",
    "        continue\n",
    "    # Some values may be located to slightly wrong frequencies. In particular, \n",
    "    # this is due to assumption that sound pressure is periodic on every time segment of spectrogram.\n",
    "    # So combine back harmonic partials.\n",
    "    if abs(frequency - harmonic_partial * fundamental_frequency) / fundamental_frequency < 0.05:\n",
    "        envelope = envelopes.get(harmonic_partial, [])\n",
    "        if envelope:\n",
    "            envelope = [x + y for x, y in zip(envelope, spc[i, :].tolist())]\n",
    "        else:\n",
    "            envelope = spc[i, :].tolist()\n",
    "        envelopes[harmonic_partial] = envelope\n",
    "    # Inharmonic partials are important for attack.\n",
    "    else:\n",
    "        envelope = spc[i, :].tolist()\n",
    "        if max(envelope) > threshold:\n",
    "            envelopes[partial] = envelope"
   ]
  },
  {
   "cell_type": "code",
   "execution_count": 7,
   "metadata": {},
   "outputs": [],
   "source": [
    "volumes = {k: max(v) for k, v in envelopes.items()}\n",
    "envelopes = {k: [x / volumes[k] for x in v] for k, v in envelopes.items()}\n",
    "fundamental_volume = volumes.pop(1)\n",
    "volume_ratios = {k: v / fundamental_volume for k, v in volumes.items()}"
   ]
  },
  {
   "cell_type": "code",
   "execution_count": 8,
   "metadata": {},
   "outputs": [],
   "source": [
    "attack_in_elements = 2\n",
    "max_attack_duration = 0.1"
   ]
  },
  {
   "cell_type": "code",
   "execution_count": 9,
   "metadata": {},
   "outputs": [],
   "source": [
    "config = '''\n",
    "---\n",
    "- name: generated_timbre\n",
    "  fundamental_waveform: sine\n",
    "  fundamental_volume_envelope:\n",
    "    name: user_defined\n",
    "    parts:\n",
    "      - values:\n",
    "          - 0\n",
    "          - {}\n",
    "        max_duration: {}\n",
    "      - values:\n",
    "          - {}\n",
    "          - 0\n",
    "        max_duration: null\n",
    "  fundamental_effects:\n",
    "    - name: vibrato\n",
    "      frequency: 4\n",
    "      width: 0.05\n",
    "    - name: tremolo\n",
    "      frequency: 3\n",
    "      amplitude: 0.05\n",
    "  overtones_specs:\n",
    "'''.format(\n",
    "    '\\n          - '.join([str(float(x)) for x in envelopes[1][:attack_in_elements]]),\n",
    "    max_attack_duration,\n",
    "    '\\n          - '.join([str(float(x)) for x in envelopes[1][attack_in_elements-1:]])\n",
    ")\n",
    "config = config[1:-1]  # Strip extra '\\n'.\n",
    "for k, v in envelopes.items():\n",
    "    if k == 1:\n",
    "        continue\n",
    "    continuation = '''\n",
    "    - waveform: sine\n",
    "      frequency_ratio: {}\n",
    "      volume_ratio: {}\n",
    "      volume_envelope:\n",
    "        name: user_defined\n",
    "        parts:\n",
    "          - values:\n",
    "              - 0\n",
    "              - {}\n",
    "            max_duration: {}\n",
    "          - values:\n",
    "              - {}\n",
    "              - 0\n",
    "            max_duration: null\n",
    "      effects:\n",
    "      - name: vibrato\n",
    "        frequency: 4\n",
    "        width: 0.05\n",
    "      - name: tremolo\n",
    "        frequency: 3\n",
    "        amplitude: 0.05\n",
    "    '''.format(\n",
    "        k,\n",
    "        volume_ratios[k],\n",
    "        '\\n              - '.join([str(float(x)) for x in envelopes[k][:attack_in_elements]]),\n",
    "        max_attack_duration,\n",
    "        '\\n              - '.join([str(float(x)) for x in envelopes[k][attack_in_elements-1:]])\n",
    "    )\n",
    "    continuation = continuation[:-5]  # Strip spaces.\n",
    "    config += continuation"
   ]
  },
  {
   "cell_type": "code",
   "execution_count": 10,
   "metadata": {},
   "outputs": [],
   "source": [
    "with open('generated_timbre.yml', 'w') as out_file:\n",
    "    for line in config:\n",
    "        out_file.write(line)"
   ]
  }
 ],
 "metadata": {
  "kernelspec": {
   "display_name": "default_env",
   "language": "python",
   "name": "default_env"
  },
  "language_info": {
   "codemirror_mode": {
    "name": "ipython",
    "version": 3
   },
   "file_extension": ".py",
   "mimetype": "text/x-python",
   "name": "python",
   "nbconvert_exporter": "python",
   "pygments_lexer": "ipython3",
   "version": "3.6.4"
  }
 },
 "nbformat": 4,
 "nbformat_minor": 2
}
